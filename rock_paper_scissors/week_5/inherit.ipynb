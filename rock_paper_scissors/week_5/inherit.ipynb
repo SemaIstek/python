{
 "cells": [
  {
   "cell_type": "code",
   "execution_count": 1,
   "metadata": {},
   "outputs": [
    {
     "name": "stdout",
     "output_type": "stream",
     "text": [
      "80.0\n"
     ]
    }
   ],
   "source": [
    "class Odtu:\n",
    "    def __init__(self, name, surname, grades):\n",
    "        self.name=name\n",
    "        self.surname=surname\n",
    "        self.grades=grades\n",
    "    def avarage(self):\n",
    "        return sum(self.grades)/len(self.grades)\n",
    "\n",
    "\n",
    "class Bolum(Odtu):\n",
    "    def __init__(self, name, surname, grades, bolum):\n",
    "        super().__init__(name,surname,grades)\n",
    "        self.bolum=bolum\n",
    "student_1=Odtu('sela','name',[40,50,60])\n",
    "b_student_2=Bolum('ada','kara',[70,80,90,],'IT')\n",
    "print(b_student_2.avarage())"
   ]
  },
  {
   "cell_type": "code",
   "execution_count": 2,
   "metadata": {},
   "outputs": [],
   "source": [
    "class Animal(object):\n",
    "    def __init__(self):\n",
    "        print('animal')\n",
    "    def walk(self):\n",
    "        print('animal walks')\n",
    "class Monkey(Animal):\n",
    "    def __init__(self):\n",
    "        super().__init__()\n",
    "        print(\"monkey\")\n",
    "    def climb(self):\n",
    "        print(\"animal climbs\")\n",
    "class Bird(Animal):\n",
    "    def __init__(self):\n",
    "        super().__init__()\n",
    "        print(\"bird\")\n",
    "    def fly(self):\n",
    "        print('Birds fly')"
   ]
  },
  {
   "cell_type": "code",
   "execution_count": 5,
   "metadata": {},
   "outputs": [
    {
     "name": "stdout",
     "output_type": "stream",
     "text": [
      "animal\n",
      "animal walks\n"
     ]
    }
   ],
   "source": [
    "m1=Animal()\n",
    "m1.walk()"
   ]
  },
  {
   "cell_type": "code",
   "execution_count": 6,
   "metadata": {},
   "outputs": [
    {
     "name": "stdout",
     "output_type": "stream",
     "text": [
      "animal\n",
      "monkey\n",
      "animal walks\n"
     ]
    }
   ],
   "source": [
    "m2=Monkey()\n",
    "m2.walk()"
   ]
  },
  {
   "cell_type": "code",
   "execution_count": 13,
   "metadata": {},
   "outputs": [],
   "source": [
    "class futbolcu():\n",
    "    kosu = \"koşabilir\"\n",
    "    depar = \"depar atar\"\n",
    "    maas = 500\n",
    "    def __init__(self, ayak=\"sağ\"):\n",
    "        self.mevki = \"orta\"\n",
    "        self.ayak = ayak\n",
    "class basketbolcu():\n",
    "    turnike = \"turnike atabilir\"\n",
    "    ucluk = \"üçlük atabilir\"\n",
    "    maas = 750\n",
    "    def __init__(self):\n",
    "        self.bolge = \"ileri\"\n",
    "class multisporcu(basketbolcu,futbolcu):\n",
    "    def __init__(self, ayak):\n",
    "        basketbolcu.__init__(self)\n",
    "        futbolcu.__init__(self, ayak)\n",
    "        self.maas=1000"
   ]
  },
  {
   "cell_type": "code",
   "execution_count": 14,
   "metadata": {},
   "outputs": [
    {
     "name": "stdout",
     "output_type": "stream",
     "text": [
      "sağ\n"
     ]
    }
   ],
   "source": [
    "alex=futbolcu()\n",
    "print(alex.ayak)"
   ]
  },
  {
   "cell_type": "code",
   "execution_count": 15,
   "metadata": {},
   "outputs": [
    {
     "name": "stdout",
     "output_type": "stream",
     "text": [
      "depar atar sol\n"
     ]
    }
   ],
   "source": [
    "hagi=futbolcu('sol')\n",
    "print(hagi.depar,hagi.ayak)"
   ]
  },
  {
   "cell_type": "code",
   "execution_count": 18,
   "metadata": {},
   "outputs": [
    {
     "name": "stdout",
     "output_type": "stream",
     "text": [
      "1000\n",
      "sol\n"
     ]
    }
   ],
   "source": [
    "ayse=multisporcu('sol')\n",
    "print(ayse.maas)\n",
    "print(ayse.ayak)"
   ]
  },
  {
   "cell_type": "code",
   "execution_count": 38,
   "metadata": {},
   "outputs": [],
   "source": [
    "class employee :\n",
    "    salary_increase_coefficient = 1.05\n",
    "    stuff_num = 0\n",
    "    def __init__ (self , name , surname , salary) :\n",
    "        self.name = name\n",
    "        self.surname = surname\n",
    "        self.salary = salary\n",
    "        self.email = (self.name + self.surname).lower ( ) + \"@sirket.com\"\n",
    "        employee.stuff_num += 1\n",
    "    def fullName (self) :\n",
    "        return f\"Ad:{self.name} Soyad:{self.surname}\"\n",
    "    def salary_hike (self) :\n",
    "        self.salary *= self.salary_increase_coefficient\n",
    "        \n",
    "    classmethod\n",
    "    def change_salary_inc_coef(cls,new_rate):\n",
    "        cls.salary_increase_coefficient =new_rate\n",
    "    @classmethod\n",
    "    def new_staff(cls,staff_info):\n",
    "        name,surname,salary=staff_info.split('-')\n",
    "        return cls(name,surname,int(salary))"
   ]
  },
  {
   "cell_type": "code",
   "execution_count": 39,
   "metadata": {},
   "outputs": [
    {
     "name": "stdout",
     "output_type": "stream",
     "text": [
      "1.05\n"
     ]
    }
   ],
   "source": [
    "personel1=employee('Fatih','Aka',5000)\n",
    "personel1=employee('Azra','Aka',7000)\n",
    "print(personel1.salary_increase_coefficient)"
   ]
  },
  {
   "cell_type": "code",
   "execution_count": 40,
   "metadata": {},
   "outputs": [],
   "source": [
    "personel1.salary_increase_coefficient = 1.5\n",
    "employee.change_salary_inc_coef = 1.5"
   ]
  },
  {
   "cell_type": "code",
   "execution_count": 41,
   "metadata": {},
   "outputs": [],
   "source": [
    "employee.change_salary_inc_coef = (1.5)"
   ]
  },
  {
   "cell_type": "code",
   "execution_count": 42,
   "metadata": {},
   "outputs": [
    {
     "name": "stdout",
     "output_type": "stream",
     "text": [
      "1.5\n"
     ]
    }
   ],
   "source": [
    "print(personel1.salary_increase_coefficient)"
   ]
  },
  {
   "cell_type": "code",
   "execution_count": 43,
   "metadata": {},
   "outputs": [],
   "source": [
    "npersonel1='    Ali- Candan- 5000  '\n",
    "npersonel2='Ayse-   Can- 6000'"
   ]
  },
  {
   "cell_type": "code",
   "execution_count": 44,
   "metadata": {},
   "outputs": [],
   "source": [
    "new_person = employee.new_staff(npersonel1)"
   ]
  }
 ],
 "metadata": {
  "kernelspec": {
   "display_name": "Python 3",
   "language": "python",
   "name": "python3"
  },
  "language_info": {
   "codemirror_mode": {
    "name": "ipython",
    "version": 3
   },
   "file_extension": ".py",
   "mimetype": "text/x-python",
   "name": "python",
   "nbconvert_exporter": "python",
   "pygments_lexer": "ipython3",
   "version": "3.11.6"
  }
 },
 "nbformat": 4,
 "nbformat_minor": 2
}
