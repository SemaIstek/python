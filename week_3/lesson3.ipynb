{
 "cells": [
  {
   "cell_type": "code",
   "execution_count": 1,
   "metadata": {},
   "outputs": [
    {
     "data": {
      "text/plain": [
       "10"
      ]
     },
     "execution_count": 1,
     "metadata": {},
     "output_type": "execute_result"
    }
   ],
   "source": [
    "def dublicate(mesaj : str) -> str :\n",
    "    return mesaj+mesaj\n",
    "\n",
    "dublicate(5)"
   ]
  },
  {
   "cell_type": "code",
   "execution_count": 2,
   "metadata": {},
   "outputs": [
    {
     "data": {
      "text/plain": [
       "'jiali'"
      ]
     },
     "execution_count": 2,
     "metadata": {},
     "output_type": "execute_result"
    }
   ],
   "source": [
    "def add(x :int, y: int) -> int:\n",
    "    return x+y\n",
    "add(3,5)\n",
    "add('ji','ali')"
   ]
  },
  {
   "cell_type": "code",
   "execution_count": 3,
   "metadata": {},
   "outputs": [
    {
     "data": {
      "text/plain": [
       "5"
      ]
     },
     "execution_count": 3,
     "metadata": {},
     "output_type": "execute_result"
    }
   ],
   "source": [
    "len('Hello')"
   ]
  },
  {
   "cell_type": "code",
   "execution_count": 10,
   "metadata": {},
   "outputs": [
    {
     "data": {
      "text/plain": [
       "2"
      ]
     },
     "execution_count": 10,
     "metadata": {},
     "output_type": "execute_result"
    }
   ],
   "source": [
    "def my_len(s):\n",
    "    count=0\n",
    "    for i in s:\n",
    "        count += 1\n",
    "    return count\n",
    "x= my_len(['Hello','ali'])\n",
    "x\n"
   ]
  },
  {
   "cell_type": "code",
   "execution_count": null,
   "metadata": {},
   "outputs": [],
   "source": [
    "def my_len(s):\n",
    "    d=[]\n",
    "    count=0\n",
    "    for i in s:\n",
    "        count+=1\n",
    "    return count\n"
   ]
  },
  {
   "cell_type": "code",
   "execution_count": 18,
   "metadata": {},
   "outputs": [
    {
     "data": {
      "text/plain": [
       "6"
      ]
     },
     "execution_count": 18,
     "metadata": {},
     "output_type": "execute_result"
    }
   ],
   "source": [
    "def f (x=8, y=1):\n",
    "    return x*y\n",
    "f(y=2)\n",
    "f(2,3)"
   ]
  },
  {
   "cell_type": "code",
   "execution_count": 23,
   "metadata": {},
   "outputs": [
    {
     "data": {
      "text/plain": [
       "21"
      ]
     },
     "execution_count": 23,
     "metadata": {},
     "output_type": "execute_result"
    }
   ],
   "source": [
    "def topla(liste):\n",
    "    res=0\n",
    "    for i  in liste:\n",
    "        res += i\n",
    "    return res\n",
    "listem= [1,2,3,4,5,6]\n",
    "topla(listem)\n"
   ]
  },
  {
   "cell_type": "code",
   "execution_count": 22,
   "metadata": {},
   "outputs": [
    {
     "name": "stdout",
     "output_type": "stream",
     "text": [
      "21\n"
     ]
    }
   ],
   "source": [
    "def topla(*args):\n",
    "    res=0\n",
    "    for i in args:\n",
    "        res += i\n",
    "    return res\n",
    "print(topla(1,2,3,4,5,6))"
   ]
  },
  {
   "cell_type": "code",
   "execution_count": 24,
   "metadata": {},
   "outputs": [
    {
     "name": "stdout",
     "output_type": "stream",
     "text": [
      "2\n",
      "3\n",
      "4\n",
      "None\n"
     ]
    }
   ],
   "source": [
    "def topla(a,liste=[]):\n",
    "    for i in liste:\n",
    "        print(a+i)\n",
    "print(topla(1,[1,2,3]))"
   ]
  },
  {
   "cell_type": "code",
   "execution_count": 30,
   "metadata": {},
   "outputs": [
    {
     "name": "stdout",
     "output_type": "stream",
     "text": [
      "pythonis nice language. \n"
     ]
    }
   ],
   "source": [
    "def concat(**kwargs):\n",
    "    text=''\n",
    "    for value in kwargs.values():\n",
    "        text +=value\n",
    "    return text \n",
    "\n",
    "print(concat(a='python', b='is nice ', c='language', d='.'))"
   ]
  },
  {
   "cell_type": "code",
   "execution_count": 31,
   "metadata": {},
   "outputs": [
    {
     "name": "stdout",
     "output_type": "stream",
     "text": [
      "<class 'dict'>\n",
      "('abcd', 'pythonis nice language.', 'apythonbis nice clanguaged.')\n"
     ]
    }
   ],
   "source": [
    "def concat(**kwargs):\n",
    "    text1=''\n",
    "    text2=''\n",
    "    text3=''\n",
    "    print(type(kwargs))\n",
    "\n",
    "    for key,value in kwargs.items():\n",
    "        text1 +=key\n",
    "        text2 +=value\n",
    "        text3 +=key +value\n",
    "    return text1, text2, text3\n",
    "\n",
    "print(concat(a='python', b='is nice ', c='language', d='.'))"
   ]
  },
  {
   "cell_type": "code",
   "execution_count": null,
   "metadata": {},
   "outputs": [],
   "source": [
    "def cikar(x):\n",
    "    return x-24\n",
    "cikar()\n"
   ]
  },
  {
   "cell_type": "code",
   "execution_count": 32,
   "metadata": {},
   "outputs": [
    {
     "data": {
      "text/plain": [
       "2"
      ]
     },
     "execution_count": 32,
     "metadata": {},
     "output_type": "execute_result"
    }
   ],
   "source": [
    "lambda_cikar = lambda x : x-2\n",
    "lambda_cikar(4)"
   ]
  },
  {
   "cell_type": "code",
   "execution_count": 34,
   "metadata": {},
   "outputs": [
    {
     "data": {
      "text/plain": [
       "8"
      ]
     },
     "execution_count": 34,
     "metadata": {},
     "output_type": "execute_result"
    }
   ],
   "source": [
    "ml = lambda x,y : x+y\n",
    "ml(6,2)"
   ]
  },
  {
   "cell_type": "code",
   "execution_count": 35,
   "metadata": {},
   "outputs": [
    {
     "data": {
      "text/plain": [
       "9"
      ]
     },
     "execution_count": 35,
     "metadata": {},
     "output_type": "execute_result"
    }
   ],
   "source": [
    "ml = lambda x,y=3 : x+y\n",
    "ml(6)"
   ]
  },
  {
   "cell_type": "code",
   "execution_count": 39,
   "metadata": {},
   "outputs": [
    {
     "data": {
      "text/plain": [
       "[6, 10]"
      ]
     },
     "execution_count": 39,
     "metadata": {},
     "output_type": "execute_result"
    }
   ],
   "source": [
    "\n",
    "sayilar =[2,3,4,5]\n",
    "\n",
    "yeni_liste = [x*2 for x in sayilar if x%2 == 0]\n",
    "yeni_liste"
   ]
  },
  {
   "cell_type": "markdown",
   "metadata": {},
   "source": [
    "map"
   ]
  },
  {
   "cell_type": "code",
   "execution_count": 43,
   "metadata": {},
   "outputs": [
    {
     "data": {
      "text/plain": [
       "[4, 6, 8, 10]"
      ]
     },
     "execution_count": 43,
     "metadata": {},
     "output_type": "execute_result"
    }
   ],
   "source": [
    "sayilar = [2,3,4,5]\n",
    "map1 =[*(map(lambda x:x*2, sayilar))] \n",
    "map1"
   ]
  },
  {
   "cell_type": "code",
   "execution_count": 44,
   "metadata": {},
   "outputs": [
    {
     "data": {
      "text/plain": [
       "[4, 6, 8, 10]"
      ]
     },
     "execution_count": 44,
     "metadata": {},
     "output_type": "execute_result"
    }
   ],
   "source": [
    "def cikar(x):\n",
    "    return x*2\n",
    "sayilar = [2,3,4,5]\n",
    "map_1 = list((map(cikar,sayilar)))\n",
    "map_1\n"
   ]
  },
  {
   "cell_type": "code",
   "execution_count": 45,
   "metadata": {},
   "outputs": [
    {
     "data": {
      "text/plain": [
       "[4, 9, 16, 25]"
      ]
     },
     "execution_count": 45,
     "metadata": {},
     "output_type": "execute_result"
    }
   ],
   "source": [
    "def cikar(x):\n",
    "    if x%2 ==0:\n",
    "        return x\n",
    "    \n",
    "sayilar = [2,3,4,5]\n",
    "map_1 = list((map(cikar,sayilar)))\n",
    "map_1\n",
    "map_2= list((map(lambda x : x**2, sayilar)))\n",
    "map_2"
   ]
  },
  {
   "cell_type": "code",
   "execution_count": 53,
   "metadata": {},
   "outputs": [
    {
     "data": {
      "text/plain": [
       "[6, 160]"
      ]
     },
     "execution_count": 53,
     "metadata": {},
     "output_type": "execute_result"
    }
   ],
   "source": [
    "sayilar = [(2,3),(40,4)]\n",
    "map_3 =list(map(lambda x : x[0]*x[1] , sayilar))\n",
    "map_3"
   ]
  },
  {
   "cell_type": "code",
   "execution_count": 54,
   "metadata": {},
   "outputs": [
    {
     "data": {
      "text/plain": [
       "[2, 4, 6, 8]"
      ]
     },
     "execution_count": 54,
     "metadata": {},
     "output_type": "execute_result"
    }
   ],
   "source": [
    "#filtre\n",
    "nums = [2,3,4,5,6,7,8]\n",
    "yeni_n = list(filter(lambda x : x%2==0, nums))\n",
    "yeni_n"
   ]
  },
  {
   "cell_type": "code",
   "execution_count": 58,
   "metadata": {},
   "outputs": [
    {
     "data": {
      "text/plain": [
       "[180.0, 30, 40, 45.0]"
      ]
     },
     "execution_count": 58,
     "metadata": {},
     "output_type": "execute_result"
    }
   ],
   "source": [
    "#filtre\n",
    "nums = [200,30,410,50]\n",
    "er = list(map(lambda x : x*0.9 if x>=50 else x, nums))\n",
    "er"
   ]
  },
  {
   "cell_type": "code",
   "execution_count": 62,
   "metadata": {},
   "outputs": [
    {
     "ename": "TypeError",
     "evalue": "unsupported operand type(s) for -: 'function' and 'builtin_function_or_method'",
     "output_type": "error",
     "traceback": [
      "\u001b[1;31m---------------------------------------------------------------------------\u001b[0m",
      "\u001b[1;31mTypeError\u001b[0m                                 Traceback (most recent call last)",
      "\u001b[1;32mc:\\Users\\MainUser\\Desktop\\python\\week_3\\lesson3.ipynb Cell 24\u001b[0m line \u001b[0;36m1\n\u001b[0;32m      <a href='vscode-notebook-cell:/c%3A/Users/MainUser/Desktop/python/week_3/lesson3.ipynb#X33sZmlsZQ%3D%3D?line=7'>8</a>\u001b[0m         \u001b[39mreturn\u001b[39;00m a\n\u001b[0;32m      <a href='vscode-notebook-cell:/c%3A/Users/MainUser/Desktop/python/week_3/lesson3.ipynb#X33sZmlsZQ%3D%3D?line=8'>9</a>\u001b[0m     \u001b[39mreturn\u001b[39;00m b\n\u001b[1;32m---> <a href='vscode-notebook-cell:/c%3A/Users/MainUser/Desktop/python/week_3/lesson3.ipynb#X33sZmlsZQ%3D%3D?line=10'>11</a>\u001b[0m reduce(f\u001b[39m-\u001b[39;49m\u001b[39mmax\u001b[39;49m,number)\n",
      "\u001b[1;31mTypeError\u001b[0m: unsupported operand type(s) for -: 'function' and 'builtin_function_or_method'"
     ]
    }
   ],
   "source": [
    "#reduce\\\n",
    "\n",
    "from functools import reduce\n",
    "number  =  [5,6,-4,0,-2]\n",
    "\n",
    "def f_max(a,b):\n",
    "    if a>b:\n",
    "        return a\n",
    "    return b\n",
    "\n",
    "reduce(f-max,number)"
   ]
  },
  {
   "cell_type": "markdown",
   "metadata": {},
   "source": [
    "Recursion  kendi kendini cagiran fonkiyonlar \n",
    "yenileme yapmak gibi"
   ]
  },
  {
   "cell_type": "code",
   "execution_count": 63,
   "metadata": {},
   "outputs": [
    {
     "name": "stdout",
     "output_type": "stream",
     "text": [
      "Infotech Academy\n",
      "nfotech Academy\n",
      "fotech Academy\n",
      "otech Academy\n",
      "tech Academy\n",
      "ech Academy\n",
      "ch Academy\n",
      "h Academy\n",
      " Academy\n",
      "Academy\n",
      "cademy\n",
      "ademy\n",
      "demy\n",
      "emy\n",
      "my\n",
      "y\n"
     ]
    },
    {
     "data": {
      "text/plain": [
       "'bitir'"
      ]
     },
     "execution_count": 63,
     "metadata": {},
     "output_type": "execute_result"
    }
   ],
   "source": [
    "def azalt(s):\n",
    "    if len(s)<1:\n",
    "        return 'bitir'\n",
    "    else:\n",
    "        print(s)\n",
    "        return(azalt(s[1:]))\n",
    "my_str = 'Infotech Academy'\n",
    "azalt(my_str)"
   ]
  },
  {
   "cell_type": "code",
   "execution_count": 65,
   "metadata": {},
   "outputs": [
    {
     "name": "stdout",
     "output_type": "stream",
     "text": [
      "6\n"
     ]
    }
   ],
   "source": [
    "#5! = 5*4*3*2*1\n",
    "\n",
    "def faktoriyel(x):\n",
    "    fak=1\n",
    "    for i in range(1,x+1):\n",
    "        fak *= i\n",
    "    return fak\n",
    "print(faktoriyel(3))"
   ]
  },
  {
   "cell_type": "code",
   "execution_count": 67,
   "metadata": {},
   "outputs": [
    {
     "data": {
      "text/plain": [
       "24"
      ]
     },
     "execution_count": 67,
     "metadata": {},
     "output_type": "execute_result"
    }
   ],
   "source": [
    "def f(c):\n",
    "    if c == 1:\n",
    "        return 1\n",
    "    return c* f(c-1)\n",
    "f(4)\n",
    "    "
   ]
  }
 ],
 "metadata": {
  "kernelspec": {
   "display_name": "Python 3",
   "language": "python",
   "name": "python3"
  },
  "language_info": {
   "codemirror_mode": {
    "name": "ipython",
    "version": 3
   },
   "file_extension": ".py",
   "mimetype": "text/x-python",
   "name": "python",
   "nbconvert_exporter": "python",
   "pygments_lexer": "ipython3",
   "version": "3.11.6"
  }
 },
 "nbformat": 4,
 "nbformat_minor": 2
}
